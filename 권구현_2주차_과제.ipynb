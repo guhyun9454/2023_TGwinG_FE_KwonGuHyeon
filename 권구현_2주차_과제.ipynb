{
 "cells": [
  {
   "attachments": {},
   "cell_type": "markdown",
   "metadata": {},
   "source": [
    "1. sum(a,b)함수를구현하세요.(5점) \n",
    "-  a 와 b 를 더한 값을 반환하는 함수"
   ]
  },
  {
   "cell_type": "code",
   "execution_count": 6,
   "metadata": {},
   "outputs": [
    {
     "data": {
      "text/plain": [
       "2"
      ]
     },
     "execution_count": 6,
     "metadata": {},
     "output_type": "execute_result"
    }
   ],
   "source": [
    "def sum(a,b):\n",
    "    return a+b\n",
    "sum(1,1)"
   ]
  },
  {
   "attachments": {},
   "cell_type": "markdown",
   "metadata": {},
   "source": [
    "2. sub(a,b)함수를구현하세요.(5점)\n",
    "- a 에서 b 를 뺀 값을 반환하는 함수"
   ]
  },
  {
   "cell_type": "code",
   "execution_count": 9,
   "metadata": {},
   "outputs": [
    {
     "data": {
      "text/plain": [
       "1"
      ]
     },
     "execution_count": 9,
     "metadata": {},
     "output_type": "execute_result"
    }
   ],
   "source": [
    "def sub(a,b):\n",
    "    return a-b\n",
    "sub(2,1)"
   ]
  },
  {
   "attachments": {},
   "cell_type": "markdown",
   "metadata": {},
   "source": [
    "3. mul(a,b)함수를구현하세요.(5점) \n",
    "- a 와 b 를 곱한 값을 반환하는 함수"
   ]
  },
  {
   "cell_type": "code",
   "execution_count": 11,
   "metadata": {},
   "outputs": [
    {
     "data": {
      "text/plain": [
       "6"
      ]
     },
     "execution_count": 11,
     "metadata": {},
     "output_type": "execute_result"
    }
   ],
   "source": [
    "def mul(a,b):\n",
    "    return a*b\n",
    "mul(2,3)"
   ]
  },
  {
   "attachments": {},
   "cell_type": "markdown",
   "metadata": {},
   "source": [
    "4. div(a,b)함수를구현하세요.(5점) \n",
    "- a 에서 b 를 나눈 값을 반환하는 함수"
   ]
  },
  {
   "cell_type": "code",
   "execution_count": 12,
   "metadata": {},
   "outputs": [
    {
     "data": {
      "text/plain": [
       "3.0"
      ]
     },
     "execution_count": 12,
     "metadata": {},
     "output_type": "execute_result"
    }
   ],
   "source": [
    "def div(a,b):\n",
    "    return a/b\n",
    "div(6,2)"
   ]
  },
  {
   "attachments": {},
   "cell_type": "markdown",
   "metadata": {},
   "source": [
    "5. distance(x1,y1,x2,y2)함수를구현하세요.(20점)\n",
    "- 두 점 (x1, y1), (x2, y2) 사이의 거리를 계산하여 반환하는 함수"
   ]
  },
  {
   "cell_type": "code",
   "execution_count": 15,
   "metadata": {},
   "outputs": [
    {
     "data": {
      "text/plain": [
       "1.4142135623730951"
      ]
     },
     "execution_count": 15,
     "metadata": {},
     "output_type": "execute_result"
    }
   ],
   "source": [
    "def distance(x1,y1,x2,y2):\n",
    "    return (((x1-x2)**2)+((y1-y2)**2))**(0.5)\n",
    "distance(3,3,2,2)"
   ]
  },
  {
   "attachments": {},
   "cell_type": "markdown",
   "metadata": {},
   "source": [
    "6. title()함수의lylics에서“”beside you””를반환하는함수를구현하세요.(5점)\n",
    "- 문자열 슬라이싱을 이용\n",
    "- return “”beside you”” 금지"
   ]
  },
  {
   "cell_type": "code",
   "execution_count": 5,
   "metadata": {},
   "outputs": [
    {
     "data": {
      "text/plain": [
       "'beside you'"
      ]
     },
     "execution_count": 5,
     "metadata": {},
     "output_type": "execute_result"
    }
   ],
   "source": [
    "def title():\n",
    "    lyrics = \"Switch sides and I'm beside you\"\n",
    "    return lyrics[-10:]\n",
    "title()"
   ]
  },
  {
   "attachments": {},
   "cell_type": "markdown",
   "metadata": {},
   "source": [
    "7. reverseStr(string)함수를구현하세요.(5점)\n",
    "- 파라미터로 받은 문자열을 거꾸로 뒤집어서 반환하는 함수 \n",
    "- ex) Hello -> olleH"
   ]
  },
  {
   "cell_type": "code",
   "execution_count": 17,
   "metadata": {},
   "outputs": [
    {
     "data": {
      "text/plain": [
       "'olleH'"
      ]
     },
     "execution_count": 17,
     "metadata": {},
     "output_type": "execute_result"
    }
   ],
   "source": [
    "def reverseStr(string):\n",
    "    return string[::-1]\n",
    "reverseStr(\"Hello\")"
   ]
  },
  {
   "attachments": {},
   "cell_type": "markdown",
   "metadata": {},
   "source": [
    "8. introduce()함수를구현하세요.(20점)\n",
    "- input() 함수를 이용해 사용자로부터 이름, 취미, 재학 중인 학교, 생일을 입력받는다.\n",
    "- ( 생일은 yymmdd 의 형태로 입력 받는다. ex. 031024 ) \n",
    "- 자기소개 글은 아래 양식을 따른다.\n",
    "- 제 이름은 {이름}입니다. 취미는 {취미}입니다. 저는 {재학 중인 학교}를 다니고 있습니다. 제 생일은 {월}월 {일}일 입니다."
   ]
  },
  {
   "cell_type": "code",
   "execution_count": 2,
   "metadata": {},
   "outputs": [
    {
     "name": "stdout",
     "output_type": "stream",
     "text": [
      "제 이름은 구현입니다. 취미는 잠자기입니다. 저는 경희대를 다니고 있습니다. 제 생일은 03월 17일 입니다.\n"
     ]
    }
   ],
   "source": [
    "def introduce():\n",
    "    name = input(\"이름을 입력하세요 : \")\n",
    "    hobby = input(\"취미를 입력하세요 : \")\n",
    "    school = input(\"재학 중인 학교를 입력하세요 : \")\n",
    "    birthday = input(\"생일을 입력하세요 : \")\n",
    "    print(\"제 이름은 %s입니다. 취미는 %s입니다. 저는 %s를 다니고 있습니다. 제 생일은 %s월 %s일 입니다.\" %(name,hobby,school,birthday[2:4],birthday[4:6]))\n",
    "introduce()"
   ]
  },
  {
   "attachments": {},
   "cell_type": "markdown",
   "metadata": {},
   "source": [
    "9. calc()함수를구현하세요.(30점)\n",
    "- input() 함수를 이용해서 사용자로부터 두 수(a, b)를 입력받고 두 수의 합, 차, 곱, 몫 을 차례대로 출력한다.\n",
    "- input() 함수는 입력을 무조건 문자열로 받는다. 계산하려면 정수형으로 바꾸는 typecasting 이 필요할 것이다.\n",
    "- 나눗셈이 아니라 몫을 구해야 한다. 헷갈리지 말자."
   ]
  },
  {
   "cell_type": "code",
   "execution_count": 4,
   "metadata": {},
   "outputs": [
    {
     "name": "stdout",
     "output_type": "stream",
     "text": [
      "두 수의 합 :  19\n",
      "두 수의 차 :  11\n",
      "두 수의 곱 :  60\n",
      "두 수의 몫 :  3\n"
     ]
    }
   ],
   "source": [
    "def calc():\n",
    "    a = int(input(\"첫 번째 수를 입력하세요 : \"))\n",
    "    b = int(input(\"두 번째 수를 입력하세요 : \"))\n",
    "    print(\"두 수의 합 : \",a+b)\n",
    "    print(\"두 수의 차 : \",a-b)\n",
    "    print(\"두 수의 곱 : \",a*b)\n",
    "    print(\"두 수의 몫 : \",a//b)\n",
    "calc()"
   ]
  }
 ],
 "metadata": {
  "kernelspec": {
   "display_name": "Python 3",
   "language": "python",
   "name": "python3"
  },
  "language_info": {
   "codemirror_mode": {
    "name": "ipython",
    "version": 3
   },
   "file_extension": ".py",
   "mimetype": "text/x-python",
   "name": "python",
   "nbconvert_exporter": "python",
   "pygments_lexer": "ipython3",
   "version": "3.11.1"
  },
  "orig_nbformat": 4
 },
 "nbformat": 4,
 "nbformat_minor": 2
}
